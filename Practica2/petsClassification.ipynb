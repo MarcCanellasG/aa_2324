{
 "cells": [
  {
   "cell_type": "markdown",
   "metadata": {},
   "source": [
    "# PETS CLASSIFICATION"
   ]
  },
  {
   "cell_type": "markdown",
   "metadata": {},
   "source": [
    "## Libraries and extensions"
   ]
  },
  {
   "cell_type": "markdown",
   "metadata": {},
   "source": [
    "Lo primero que debemos hacer antes de comenzar con la manipulacion de nuestros datos es importar todas las librerias que vayamos a utlizar."
   ]
  },
  {
   "cell_type": "code",
   "execution_count": 7,
   "metadata": {},
   "outputs": [],
   "source": [
    "from os.path import isfile, join, exists\n",
    "from skimage import data, exposure\n",
    "from os import listdir\n",
    "import os\n",
    "import torch"
   ]
  },
  {
   "cell_type": "markdown",
   "metadata": {},
   "source": [
    "## Transformación y preparación del conjunto de datos"
   ]
  },
  {
   "cell_type": "markdown",
   "metadata": {},
   "source": [
    "El primer problema que encontramos es que las imágenes no tienen las mismas dimensiones, por lo que debemos escalar todas las imágenes al mismo tamaño para entrenar nuestro modelo. El mejor tamaño es el mínimo de todas las imágenes, con el fin de evitar píxeles inútiles de información, ya que si aumentamos el tamaño de las imágenes pequeñas estamos haciendo que aparezcan píxeles que no existían y alteraríamos los resultados."
   ]
  },
  {
   "cell_type": "code",
   "execution_count": 38,
   "metadata": {},
   "outputs": [
    {
     "name": "stdout",
     "output_type": "stream",
     "text": [
      "Directorio gatos\n",
      "Tamaño: (103, 103)\n",
      "Directorio images\n",
      "Tamaño: (137, 103)\n",
      "Directorio perros\n",
      "Tamaño: (103, 103)\n"
     ]
    }
   ],
   "source": [
    "import os\n",
    "from PIL import Image\n",
    "\n",
    "def find_smallest_image_in_directory(directory):\n",
    "    image_files = [file for file in os.listdir(directory) if file.lower().endswith('.jpg')]\n",
    "\n",
    "    if not image_files:\n",
    "        print(f\"No images found in the directory {directory}.\")\n",
    "        return None, None\n",
    "\n",
    "    min_size = float('inf')\n",
    "    min_image = None\n",
    "\n",
    "    for filename in image_files:\n",
    "        image = Image.open(os.path.join(directory, filename))\n",
    "        width, height = image.size\n",
    "        current_size = width * height\n",
    "\n",
    "        if current_size < min_size:\n",
    "            min_size = current_size\n",
    "            min_image = filename\n",
    "\n",
    "    return min_image, min_size\n",
    "\n",
    "base_directory = \"images\"\n",
    "\n",
    "for subdirectory in os.listdir(base_directory):\n",
    "    subdirectory_path = os.path.join(base_directory, subdirectory)\n",
    "    \n",
    "    if os.path.isdir(subdirectory_path):\n",
    "        min_image, min_size = find_smallest_image_in_directory(subdirectory_path)\n",
    "\n",
    "        if min_image is not None:\n",
    "            print(f\"Directorio {subdirectory}\")\n",
    "            print(f\"Tamaño: {Image.open(os.path.join(subdirectory_path, min_image)).size}\")\n",
    "        else:\n",
    "            print(f\"No hay nada\")\n"
   ]
  },
  {
   "cell_type": "markdown",
   "metadata": {},
   "source": [
    "Como podemos comprobar, la imagen con una dimensión menor mide (103, 103). Para mantener esto de la forma más simple posible vamos a escalar todas las imágenes a un cuadrado de dimensiones (103,103). Hacemos el proceso de resize utilizando una función auxiliar para todas las imagenes del dataset."
   ]
  },
  {
   "cell_type": "code",
   "execution_count": 39,
   "metadata": {},
   "outputs": [
    {
     "ename": "NotADirectoryError",
     "evalue": "[WinError 267] El nombre del directorio no es válido: 'images/perros/american_bulldog_10.jpg'",
     "output_type": "error",
     "traceback": [
      "\u001b[1;31m---------------------------------------------------------------------------\u001b[0m",
      "\u001b[1;31mNotADirectoryError\u001b[0m                        Traceback (most recent call last)",
      "\u001b[1;32m<ipython-input-39-39113ea43cae>\u001b[0m in \u001b[0;36m<module>\u001b[1;34m\u001b[0m\n\u001b[0;32m     20\u001b[0m                 \u001b[0mcv2\u001b[0m\u001b[1;33m.\u001b[0m\u001b[0mimwrite\u001b[0m\u001b[1;33m(\u001b[0m\u001b[0mimage_path\u001b[0m\u001b[1;33m,\u001b[0m \u001b[0mresized_image\u001b[0m\u001b[1;33m)\u001b[0m\u001b[1;33m\u001b[0m\u001b[1;33m\u001b[0m\u001b[0m\n\u001b[0;32m     21\u001b[0m \u001b[1;33m\u001b[0m\u001b[0m\n\u001b[1;32m---> 22\u001b[1;33m \u001b[0mresize_images\u001b[0m\u001b[1;33m(\u001b[0m\u001b[1;34m\"perros\"\u001b[0m\u001b[1;33m)\u001b[0m\u001b[1;33m\u001b[0m\u001b[1;33m\u001b[0m\u001b[0m\n\u001b[0m",
      "\u001b[1;32m<ipython-input-39-39113ea43cae>\u001b[0m in \u001b[0;36mresize_images\u001b[1;34m(type)\u001b[0m\n\u001b[0;32m     12\u001b[0m             \u001b[0mnum_total_images\u001b[0m \u001b[1;33m=\u001b[0m \u001b[0mlen\u001b[0m\u001b[1;33m(\u001b[0m\u001b[1;33m[\u001b[0m\u001b[0mfile\u001b[0m \u001b[1;32mfor\u001b[0m \u001b[0mfile\u001b[0m \u001b[1;32min\u001b[0m \u001b[0mos\u001b[0m\u001b[1;33m.\u001b[0m\u001b[0mlistdir\u001b[0m\u001b[1;33m(\u001b[0m\u001b[0msubdirectory_path\u001b[0m\u001b[1;33m)\u001b[0m \u001b[1;32mif\u001b[0m \u001b[0mfile\u001b[0m\u001b[1;33m.\u001b[0m\u001b[0mlower\u001b[0m\u001b[1;33m(\u001b[0m\u001b[1;33m)\u001b[0m\u001b[1;33m.\u001b[0m\u001b[0mendswith\u001b[0m\u001b[1;33m(\u001b[0m\u001b[1;34m'.jpg'\u001b[0m\u001b[1;33m)\u001b[0m\u001b[1;33m]\u001b[0m\u001b[1;33m)\u001b[0m\u001b[1;33m\u001b[0m\u001b[1;33m\u001b[0m\u001b[0m\n\u001b[0;32m     13\u001b[0m \u001b[1;33m\u001b[0m\u001b[0m\n\u001b[1;32m---> 14\u001b[1;33m         \u001b[1;32mfor\u001b[0m \u001b[0mfilename\u001b[0m \u001b[1;32min\u001b[0m \u001b[0mos\u001b[0m\u001b[1;33m.\u001b[0m\u001b[0mlistdir\u001b[0m\u001b[1;33m(\u001b[0m\u001b[0msubdirectory_path\u001b[0m\u001b[1;33m)\u001b[0m\u001b[1;33m:\u001b[0m\u001b[1;33m\u001b[0m\u001b[1;33m\u001b[0m\u001b[0m\n\u001b[0m\u001b[0;32m     15\u001b[0m             \u001b[1;32mif\u001b[0m \u001b[0mfilename\u001b[0m\u001b[1;33m.\u001b[0m\u001b[0mlower\u001b[0m\u001b[1;33m(\u001b[0m\u001b[1;33m)\u001b[0m\u001b[1;33m.\u001b[0m\u001b[0mendswith\u001b[0m\u001b[1;33m(\u001b[0m\u001b[1;34m'.jpg'\u001b[0m\u001b[1;33m)\u001b[0m\u001b[1;33m:\u001b[0m\u001b[1;33m\u001b[0m\u001b[1;33m\u001b[0m\u001b[0m\n\u001b[0;32m     16\u001b[0m                 \u001b[0mimage_path\u001b[0m \u001b[1;33m=\u001b[0m \u001b[0mos\u001b[0m\u001b[1;33m.\u001b[0m\u001b[0mpath\u001b[0m\u001b[1;33m.\u001b[0m\u001b[0mjoin\u001b[0m\u001b[1;33m(\u001b[0m\u001b[0msubdirectory_path\u001b[0m\u001b[1;33m,\u001b[0m \u001b[0mfilename\u001b[0m\u001b[1;33m)\u001b[0m\u001b[1;33m\u001b[0m\u001b[1;33m\u001b[0m\u001b[0m\n",
      "\u001b[1;31mNotADirectoryError\u001b[0m: [WinError 267] El nombre del directorio no es válido: 'images/perros/american_bulldog_10.jpg'"
     ]
    }
   ],
   "source": [
    "import cv2\n",
    "\n",
    "def resize_images(type):\n",
    "    # Directorio base\n",
    "    base_directory = \"images/\" + type + \"/\"\n",
    "    \n",
    "    # Iterar a través de los subdirectorios\n",
    "    for subdirectory in os.listdir(base_directory):\n",
    "        subdirectory_path = os.path.join(base_directory, subdirectory)\n",
    "\n",
    "        if os.path.isdir(subdirectory_path):\n",
    "            num_total_images = len([file for file in os.listdir(subdirectory_path) if file.lower().endswith('.jpg')])\n",
    "\n",
    "        for filename in os.listdir(subdirectory_path):\n",
    "            if filename.lower().endswith('.jpg'):\n",
    "                image_path = os.path.join(subdirectory_path, filename)\n",
    "                print(image_path)\n",
    "                image = cv2.imread(image_path)\n",
    "                resized_image = cv2.resize(image, (103, 103))\n",
    "                cv2.imwrite(image_path, resized_image)\n",
    "    \n",
    "resize_images(\"perros\")\n"
   ]
  }
 ],
 "metadata": {
  "kernelspec": {
   "display_name": "Python 3",
   "language": "python",
   "name": "python3"
  },
  "language_info": {
   "codemirror_mode": {
    "name": "ipython",
    "version": 3
   },
   "file_extension": ".py",
   "mimetype": "text/x-python",
   "name": "python",
   "nbconvert_exporter": "python",
   "pygments_lexer": "ipython3",
   "version": "3.8.5"
  }
 },
 "nbformat": 4,
 "nbformat_minor": 2
}
