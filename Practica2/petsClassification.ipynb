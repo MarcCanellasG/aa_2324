{
 "cells": [
  {
   "cell_type": "markdown",
   "metadata": {},
   "source": [
    "# PETS CLASSIFICATION"
   ]
  },
  {
   "cell_type": "markdown",
   "metadata": {},
   "source": [
    "## Libraries and extensions"
   ]
  },
  {
   "cell_type": "markdown",
   "metadata": {},
   "source": [
    "Lo primero que debemos hacer antes de comenzar con la manipulacion de nuestros datos es importar todas las librerias que vayamos a utlizar."
   ]
  },
  {
   "cell_type": "code",
   "execution_count": 1,
   "metadata": {},
   "outputs": [],
   "source": [
    "from os.path import isfile, join, exists\n",
    "from skimage import data, exposure\n",
    "from os import listdir\n",
    "import os\n",
    "import torch"
   ]
  },
  {
   "cell_type": "markdown",
   "metadata": {},
   "source": [
    "## Transformación y preparación del conjunto de datos"
   ]
  },
  {
   "cell_type": "markdown",
   "metadata": {},
   "source": [
    "El primer problema que encontramos es que las imágenes no tienen las mismas dimensiones, por lo que debemos escalar todas las imágenes al mismo tamaño para entrenar nuestro modelo. El mejor tamaño es el mínimo de todas las imágenes, con el fin de evitar píxeles inútiles de información, ya que si aumentamos el tamaño de las imágenes pequeñas estamos haciendo que aparezcan píxeles que no existían y alteraríamos los resultados."
   ]
  },
  {
   "cell_type": "code",
   "execution_count": 5,
   "metadata": {},
   "outputs": [
    {
     "name": "stdout",
     "output_type": "stream",
     "text": [
      "Directorio gatos\n",
      "Tamaño: (103, 103)\n",
      "Directorio images\n",
      "Tamaño: (103, 103)\n",
      "Directorio perros\n",
      "Tamaño: (103, 103)\n"
     ]
    }
   ],
   "source": [
    "import os\n",
    "from PIL import Image\n",
    "\n",
    "def find_smallest_image_in_directory(directory):\n",
    "    image_files = [file for file in os.listdir(directory) if file.lower().endswith('.jpg')]\n",
    "\n",
    "    if not image_files:\n",
    "        print(f\"No images found in the directory {directory}.\")\n",
    "        return None, None\n",
    "\n",
    "    min_size = float('inf')\n",
    "    min_image = None\n",
    "\n",
    "    for filename in image_files:\n",
    "        image = Image.open(os.path.join(directory, filename))\n",
    "        width, height = image.size\n",
    "        current_size = width * height\n",
    "\n",
    "        if current_size < min_size:\n",
    "            min_size = current_size\n",
    "            min_image = filename\n",
    "\n",
    "    return min_image, min_size\n",
    "\n",
    "base_directory = \"images\"\n",
    "\n",
    "for subdirectory in os.listdir(base_directory):\n",
    "    subdirectory_path = os.path.join(base_directory, subdirectory)\n",
    "    \n",
    "    if os.path.isdir(subdirectory_path):\n",
    "        min_image, min_size = find_smallest_image_in_directory(subdirectory_path)\n",
    "\n",
    "        if min_image is not None:\n",
    "            print(f\"Directorio {subdirectory}\")\n",
    "            print(f\"Tamaño: {Image.open(os.path.join(subdirectory_path, min_image)).size}\")\n",
    "        else:\n",
    "            print(f\"No hay nada\")\n"
   ]
  },
  {
   "cell_type": "markdown",
   "metadata": {},
   "source": [
    "Como podemos comprobar, la imagen con una dimensión menor mide (103, 103). Para mantener esto de la forma más simple posible vamos a escalar todas las imágenes a un cuadrado de dimensiones (103,103). Hacemos el proceso de resize utilizando una función auxiliar para todas las imagenes del dataset."
   ]
  },
  {
   "cell_type": "code",
   "execution_count": 4,
   "metadata": {},
   "outputs": [
    {
     "name": "stdout",
     "output_type": "stream",
     "text": [
      "Error loading or resizing image: images\\gatos\\Abyssinian_34.jpg\n"
     ]
    },
    {
     "ename": "KeyboardInterrupt",
     "evalue": "",
     "output_type": "error",
     "traceback": [
      "\u001b[1;31m---------------------------------------------------------------------------\u001b[0m",
      "\u001b[1;31mKeyboardInterrupt\u001b[0m                         Traceback (most recent call last)",
      "\u001b[1;32m<ipython-input-4-8fe032688bf5>\u001b[0m in \u001b[0;36m<module>\u001b[1;34m\u001b[0m\n\u001b[0;32m     27\u001b[0m                     \u001b[0mprint\u001b[0m\u001b[1;33m(\u001b[0m\u001b[1;34mf\"Error loading or resizing image: {image_path}\"\u001b[0m\u001b[1;33m)\u001b[0m\u001b[1;33m\u001b[0m\u001b[1;33m\u001b[0m\u001b[0m\n\u001b[0;32m     28\u001b[0m \u001b[1;33m\u001b[0m\u001b[0m\n\u001b[1;32m---> 29\u001b[1;33m \u001b[0mresize_images\u001b[0m\u001b[1;33m(\u001b[0m\u001b[1;33m)\u001b[0m\u001b[1;33m\u001b[0m\u001b[1;33m\u001b[0m\u001b[0m\n\u001b[0m",
      "\u001b[1;32m<ipython-input-4-8fe032688bf5>\u001b[0m in \u001b[0;36mresize_images\u001b[1;34m()\u001b[0m\n\u001b[0;32m     19\u001b[0m             \u001b[1;32mfor\u001b[0m \u001b[0mfilename\u001b[0m \u001b[1;32min\u001b[0m \u001b[0mimage_files\u001b[0m\u001b[1;33m:\u001b[0m\u001b[1;33m\u001b[0m\u001b[1;33m\u001b[0m\u001b[0m\n\u001b[0;32m     20\u001b[0m                 \u001b[0mimage_path\u001b[0m \u001b[1;33m=\u001b[0m \u001b[0mos\u001b[0m\u001b[1;33m.\u001b[0m\u001b[0mpath\u001b[0m\u001b[1;33m.\u001b[0m\u001b[0mjoin\u001b[0m\u001b[1;33m(\u001b[0m\u001b[0msubdirectory_path\u001b[0m\u001b[1;33m,\u001b[0m \u001b[0mfilename\u001b[0m\u001b[1;33m)\u001b[0m\u001b[1;33m\u001b[0m\u001b[1;33m\u001b[0m\u001b[0m\n\u001b[1;32m---> 21\u001b[1;33m                 \u001b[0mimage\u001b[0m \u001b[1;33m=\u001b[0m \u001b[0mcv2\u001b[0m\u001b[1;33m.\u001b[0m\u001b[0mimread\u001b[0m\u001b[1;33m(\u001b[0m\u001b[0mimage_path\u001b[0m\u001b[1;33m)\u001b[0m\u001b[1;33m\u001b[0m\u001b[1;33m\u001b[0m\u001b[0m\n\u001b[0m\u001b[0;32m     22\u001b[0m \u001b[1;33m\u001b[0m\u001b[0m\n\u001b[0;32m     23\u001b[0m                 \u001b[1;32mif\u001b[0m \u001b[0mimage\u001b[0m \u001b[1;32mis\u001b[0m \u001b[1;32mnot\u001b[0m \u001b[1;32mNone\u001b[0m \u001b[1;32mand\u001b[0m \u001b[1;32mnot\u001b[0m \u001b[0mimage\u001b[0m\u001b[1;33m.\u001b[0m\u001b[0msize\u001b[0m \u001b[1;33m==\u001b[0m \u001b[1;36m0\u001b[0m\u001b[1;33m:\u001b[0m\u001b[1;33m\u001b[0m\u001b[1;33m\u001b[0m\u001b[0m\n",
      "\u001b[1;31mKeyboardInterrupt\u001b[0m: "
     ]
    }
   ],
   "source": [
    "import cv2\n",
    "\n",
    "def resize_images():\n",
    "    # Directorio base\n",
    "    base_directory = \"images\"\n",
    "    \n",
    "    # Iterar a través de los subdirectorios\n",
    "    for subdirectory in os.listdir(base_directory):\n",
    "        subdirectory_path = os.path.join(base_directory, subdirectory)\n",
    "\n",
    "        if os.path.isdir(subdirectory_path):\n",
    "                \n",
    "            image_files = [file for file in os.listdir(subdirectory_path) if file.lower().endswith(('.jpg', '.jpeg'))]\n",
    "\n",
    "            if not image_files:\n",
    "                print(f\"No images found in the directory {subdirectory_path}.\")\n",
    "                continue  # Skip to the next subdirectory\n",
    "\n",
    "            for filename in image_files:\n",
    "                image_path = os.path.join(subdirectory_path, filename)\n",
    "                image = cv2.imread(image_path)\n",
    "\n",
    "                if image is not None and not image.size == 0:\n",
    "                    resized_image = cv2.resize(image, (103, 103))\n",
    "                    cv2.imwrite(image_path, resized_image)\n",
    "                else:\n",
    "                    print(f\"Error loading or resizing image: {image_path}\")\n",
    "\n",
    "resize_images()"
   ]
  }
 ],
 "metadata": {
  "kernelspec": {
   "display_name": "Python 3",
   "language": "python",
   "name": "python3"
  },
  "language_info": {
   "codemirror_mode": {
    "name": "ipython",
    "version": 3
   },
   "file_extension": ".py",
   "mimetype": "text/x-python",
   "name": "python",
   "nbconvert_exporter": "python",
   "pygments_lexer": "ipython3",
   "version": "3.8.5"
  }
 },
 "nbformat": 4,
 "nbformat_minor": 2
}
