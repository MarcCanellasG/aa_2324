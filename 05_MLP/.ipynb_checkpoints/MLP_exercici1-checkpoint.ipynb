{
 "cells": [
  {
   "cell_type": "code",
   "execution_count": 4,
   "metadata": {
    "id": "XxdTVpgVQ6Jp"
   },
   "outputs": [],
   "source": [
    "# -*- coding: utf-8 -*-\n",
    "import torch\n",
    "import math\n",
    "import torch.optim as optim\n",
    "import torch.nn as nn\n",
    "import numpy as np\n",
    "import matplotlib.pyplot as plt\n",
    "from sklearn.model_selection import train_test_split\n",
    "\n",
    "\n",
    "from sklearn.datasets import make_friedman1"
   ]
  },
  {
   "cell_type": "markdown",
   "metadata": {
    "id": "CPAOix_lRtN1"
   },
   "source": [
    "# Exercici de Regressió\n",
    "\n",
    "En aquest primer exercici el que es demana és que repetiu el mateix procés que el tutorial però en un problema una mica més complicat. La vostra xarxa haurà de tenir alguna capa més.\n",
    "\n",
    "## Generació de les dades\n",
    "Emprarem un conjunt de dades que s'autogenera a partir de certs paràmetres, la variable a predir es correspon amb la següent fórmula:\n",
    "\n",
    "$y(X) = 10 * \\sin(\\pi * X[0] * X[1]) + 20 * (X[2] - 0.5)^2 + 10 * X[3] + 5 * X[4] + noise * N(0, 1).$\n",
    "\n",
    "Com podeu observar tenim 5 variables útils i les altres que són independents de `y`.\n",
    "\n",
    "[Més informació](https://projecteuclid.org/journals/annals-of-statistics/volume-19/issue-1/Multivariate-Adaptive-Regression-Splines/10.1214/aos/1176347963.full)\n",
    "\n",
    "**ToDo**\n",
    "\n",
    "- En aquesta passa només heu de separar les dades en conjunt d'entrenament i test. Les etiquetes del conjunt de test s'han de dir `y_test`.\n"
   ]
  },
  {
   "cell_type": "code",
   "execution_count": 7,
   "metadata": {
    "id": "bk0yTJY2Rstp"
   },
   "outputs": [],
   "source": [
    "X, y = make_friedman1(n_samples=2000, n_features=10, noise=0.0, random_state=33)\n",
    "X_train, X_test, y_train, y_test = train_test_split(X, y, test_size=0.33, random_state=42)\n",
    "\n",
    "X = torch.from_numpy(X)\n",
    "y =  torch.from_numpy(y)\n",
    "X = X.float()\n",
    "y = y.float()\n"
   ]
  },
  {
   "cell_type": "markdown",
   "metadata": {
    "id": "48Xadr-fV11A"
   },
   "source": [
    "## Definició de la xarxa\n",
    "\n",
    "**ToDo**\n",
    "- Heu de definir la xarxa amb la qual voleu treballar, provau amb diferents arquitectures.\n",
    "- Heu de definir la funció de pèrdua, podeu emprar MSE."
   ]
  },
  {
   "cell_type": "code",
   "execution_count": 8,
   "metadata": {
    "id": "7Nuf4lBWRWCX"
   },
   "outputs": [
    {
     "ename": "NameError",
     "evalue": "name 'nn' is not defined",
     "output_type": "error",
     "traceback": [
      "\u001b[1;31m---------------------------------------------------------------------------\u001b[0m",
      "\u001b[1;31mNameError\u001b[0m                                 Traceback (most recent call last)",
      "\u001b[1;32m<ipython-input-8-82d3c3f127c0>\u001b[0m in \u001b[0;36m<module>\u001b[1;34m\u001b[0m\n\u001b[0;32m      2\u001b[0m \u001b[1;33m\u001b[0m\u001b[0m\n\u001b[0;32m      3\u001b[0m \u001b[1;31m# TODO: put your code here\u001b[0m\u001b[1;33m\u001b[0m\u001b[1;33m\u001b[0m\u001b[1;33m\u001b[0m\u001b[0m\n\u001b[1;32m----> 4\u001b[1;33m model = nn.Sequential(\n\u001b[0m\u001b[0;32m      5\u001b[0m     \u001b[0mnn\u001b[0m\u001b[1;33m.\u001b[0m\u001b[0mLinear\u001b[0m\u001b[1;33m(\u001b[0m\u001b[1;36m10\u001b[0m\u001b[1;33m,\u001b[0m \u001b[1;36m64\u001b[0m\u001b[1;33m)\u001b[0m\u001b[1;33m,\u001b[0m  \u001b[1;31m# Capa de entrada: 10 características de entrada, 64 neuronas en la capa oculta\u001b[0m\u001b[1;33m\u001b[0m\u001b[1;33m\u001b[0m\u001b[0m\n\u001b[0;32m      6\u001b[0m     \u001b[0mnn\u001b[0m\u001b[1;33m.\u001b[0m\u001b[0mReLU\u001b[0m\u001b[1;33m(\u001b[0m\u001b[1;33m)\u001b[0m\u001b[1;33m,\u001b[0m  \u001b[1;31m# Función de activación ReLU\u001b[0m\u001b[1;33m\u001b[0m\u001b[1;33m\u001b[0m\u001b[0m\n",
      "\u001b[1;31mNameError\u001b[0m: name 'nn' is not defined"
     ]
    }
   ],
   "source": [
    "model = torch.nn.Sequential()\n",
    "\n",
    "# TODO: put your code here\n",
    "model = nn.Sequential(\n",
    "    nn.Linear(10, 64),  # Capa de entrada: 10 características de entrada, 64 neuronas en la capa oculta\n",
    "    nn.ReLU(),  # Función de activación ReLU\n",
    "    nn.Linear(64, 1)  # Capa de salida: 1 neurona para la regresión\n",
    ")"
   ]
  },
  {
   "cell_type": "markdown",
   "metadata": {
    "id": "rB17SF-GWDKV"
   },
   "source": [
    "## Entrenament\n",
    "\n",
    "En aquesta part heu de definir el bucle d'entrenament:\n",
    "\n",
    "**ToDo**\n",
    "\n",
    "  - Predicció.\n",
    "  - Càlcul de la funció de pèrdua.\n",
    "  - Càlcul del descens del gradient.\n",
    "\n",
    "Volem veure un gràfic on es mostri el valor de la funció de pèrdua pel conjunt d'entrenament i del conjunt de test a cada iteració.\n"
   ]
  },
  {
   "cell_type": "code",
   "execution_count": null,
   "metadata": {
    "id": "AFTYhyLRWE24"
   },
   "outputs": [],
   "source": [
    "# TODO fer l'entrenament"
   ]
  },
  {
   "cell_type": "markdown",
   "metadata": {
    "id": "v5oZykCgcNqD"
   },
   "source": [
    "## Resultats\n",
    "\n",
    "**ToDo**\n",
    "- Dibuixar el gràfic emprant un gràfic on podrem comparar com de bons són els nostres resultats respecte els"
   ]
  },
  {
   "cell_type": "code",
   "execution_count": null,
   "metadata": {},
   "outputs": [],
   "source": [
    "y_pred = model()\n",
    "\n",
    "plt.title(\"Resultats visuals\")\n",
    "plt.scatter(y_test, y_pred.detach().numpy(), c=\"red\")\n",
    "plt.plot(y_test, y_test)\n",
    "plt.show()"
   ]
  }
 ],
 "metadata": {
  "colab": {
   "collapsed_sections": [],
   "provenance": []
  },
  "kernelspec": {
   "display_name": "Python 3",
   "language": "python",
   "name": "python3"
  },
  "language_info": {
   "codemirror_mode": {
    "name": "ipython",
    "version": 3
   },
   "file_extension": ".py",
   "mimetype": "text/x-python",
   "name": "python",
   "nbconvert_exporter": "python",
   "pygments_lexer": "ipython3",
   "version": "3.8.5"
  }
 },
 "nbformat": 4,
 "nbformat_minor": 1
}
