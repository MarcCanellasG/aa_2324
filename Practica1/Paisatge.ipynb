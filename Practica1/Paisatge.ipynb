{
 "cells": [
  {
   "cell_type": "markdown",
   "metadata": {},
   "source": [
    "# Practica 1 - Landscapes\n",
    "This dataset represents different countries or inland areas with 14 different classes. Due to their difficulty, the images are real images without any practical pre-treatment, it will be necessary to maximise the characteristics of the images to improve the results."
   ]
  },
  {
   "cell_type": "markdown",
   "metadata": {},
   "source": [
    "## Transforming and preparing the dataset\n",
    "\n",
    "The first problem we find is that images don't have the same dimensions, so we have to scale all the images to the same size in order to train our model. The best size is the minimum of all images, in order to avoid useless pixels of information because if we increase the size of the small images we are causing pixels that didn't exist to appear and alter the results."
   ]
  },
  {
   "cell_type": "code",
   "execution_count": 22,
   "metadata": {},
   "outputs": [
    {
     "name": "stdout",
     "output_type": "stream",
     "text": [
      "Requirement already satisfied: opencv-python in c:\\users\\marcc\\anaconda3\\envs\\apreauto\\lib\\site-packages (4.8.1.78)Note: you may need to restart the kernel to use updated packages.\n",
      "\n",
      "Requirement already satisfied: numpy>=1.21.2 in c:\\users\\marcc\\anaconda3\\envs\\apreauto\\lib\\site-packages (from opencv-python) (1.24.3)\n",
      "Requirement already satisfied: scikit-image in c:\\users\\marcc\\anaconda3\\envs\\apreauto\\lib\\site-packages (0.22.0)\n",
      "Requirement already satisfied: numpy>=1.22 in c:\\users\\marcc\\anaconda3\\envs\\apreauto\\lib\\site-packages (from scikit-image) (1.24.3)\n",
      "Requirement already satisfied: scipy>=1.8 in c:\\users\\marcc\\anaconda3\\envs\\apreauto\\lib\\site-packages (from scikit-image) (1.11.2)\n",
      "Requirement already satisfied: networkx>=2.8 in c:\\users\\marcc\\anaconda3\\envs\\apreauto\\lib\\site-packages (from scikit-image) (3.1)\n",
      "Requirement already satisfied: pillow>=9.0.1 in c:\\users\\marcc\\anaconda3\\envs\\apreauto\\lib\\site-packages (from scikit-image) (10.0.1)\n",
      "Requirement already satisfied: imageio>=2.27 in c:\\users\\marcc\\anaconda3\\envs\\apreauto\\lib\\site-packages (from scikit-image) (2.32.0)\n",
      "Requirement already satisfied: tifffile>=2022.8.12 in c:\\users\\marcc\\anaconda3\\envs\\apreauto\\lib\\site-packages (from scikit-image) (2023.9.26)\n",
      "Requirement already satisfied: packaging>=21 in c:\\users\\marcc\\anaconda3\\envs\\apreauto\\lib\\site-packages (from scikit-image) (23.1)\n",
      "Requirement already satisfied: lazy_loader>=0.3 in c:\\users\\marcc\\anaconda3\\envs\\apreauto\\lib\\site-packages (from scikit-image) (0.3)\n",
      "Note: you may need to restart the kernel to use updated packages.\n",
      "Collecting tqdm\n",
      "  Obtaining dependency information for tqdm from https://files.pythonhosted.org/packages/00/e5/f12a80907d0884e6dff9c16d0c0114d81b8cd07dc3ae54c5e962cc83037e/tqdm-4.66.1-py3-none-any.whl.metadata\n",
      "  Downloading tqdm-4.66.1-py3-none-any.whl.metadata (57 kB)\n",
      "     ---------------------------------------- 0.0/57.6 kB ? eta -:--:--\n",
      "     ------- -------------------------------- 10.2/57.6 kB ? eta -:--:--\n",
      "     ------- -------------------------------- 10.2/57.6 kB ? eta -:--:--\n",
      "     ------------- ------------------------ 20.5/57.6 kB 108.9 kB/s eta 0:00:01\n",
      "     ------------- ------------------------ 20.5/57.6 kB 108.9 kB/s eta 0:00:01\n",
      "     -------------------- ----------------- 30.7/57.6 kB 130.4 kB/s eta 0:00:01\n",
      "     --------------------------------- ---- 51.2/57.6 kB 187.0 kB/s eta 0:00:01\n",
      "     --------------------------------- ---- 51.2/57.6 kB 187.0 kB/s eta 0:00:01\n",
      "     -------------------------------------- 57.6/57.6 kB 144.0 kB/s eta 0:00:00\n",
      "Requirement already satisfied: colorama in c:\\users\\marcc\\anaconda3\\envs\\apreauto\\lib\\site-packages (from tqdm) (0.4.6)\n",
      "Downloading tqdm-4.66.1-py3-none-any.whl (78 kB)\n",
      "   ---------------------------------------- 0.0/78.3 kB ? eta -:--:--\n",
      "   ---------------------------------------- 0.0/78.3 kB ? eta -:--:--\n",
      "   --------------- ------------------------ 30.7/78.3 kB ? eta -:--:--\n",
      "   ------------------------------------ --- 71.7/78.3 kB 2.0 MB/s eta 0:00:01\n",
      "   ---------------------------------------- 78.3/78.3 kB 1.1 MB/s eta 0:00:00\n",
      "Installing collected packages: tqdm\n",
      "Successfully installed tqdm-4.66.1\n",
      "Note: you may need to restart the kernel to use updated packages.\n"
     ]
    }
   ],
   "source": [
    "%pip install opencv-python\n",
    "%pip install scikit-image\n",
    "%pip install tqdm"
   ]
  },
  {
   "cell_type": "code",
   "execution_count": 2,
   "metadata": {},
   "outputs": [
    {
     "name": "stdout",
     "output_type": "stream",
     "text": [
      "Found in bedroom: image_0001.jpg\n",
      "Dimensions: (200, 200)\n",
      "Found in Coast: image_0006.jpg\n",
      "Dimensions: (200, 200)\n",
      "Found in Forest: image_0003.jpg\n",
      "Dimensions: (200, 200)\n",
      "Found in Highway: image_0009.jpg\n",
      "Dimensions: (200, 200)\n",
      "Found in industrial: image_0002.jpg\n",
      "Dimensions: (200, 200)\n",
      "Found in Insidecity: image_0005.jpg\n",
      "Dimensions: (200, 200)\n",
      "Found in kitchen: image_0001.jpg\n",
      "Dimensions: (200, 200)\n",
      "Found in livingroom: image_0001.jpg\n",
      "Dimensions: (200, 200)\n",
      "Found in Mountain: image_0002.jpg\n",
      "Dimensions: (200, 200)\n",
      "Found in Office: image_0002.jpg\n",
      "Dimensions: (200, 200)\n",
      "Found in OpenCountry: image_0003.jpg\n",
      "Dimensions: (200, 200)\n",
      "Found in store: image_0001.jpg\n",
      "Dimensions: (200, 200)\n",
      "Found in Street: image_0001.jpg\n",
      "Dimensions: (200, 200)\n",
      "Found in Suburb: image_0002.jpg\n",
      "Dimensions: (200, 200)\n",
      "Found in TallBuilding: image_0010.jpg\n",
      "Dimensions: (200, 200)\n"
     ]
    }
   ],
   "source": [
    "from PIL import Image\n",
    "import os\n",
    "\n",
    "def find_smallest_image_in_directory(directory):\n",
    "    image_files = [file for file in os.listdir(directory) if file.lower().endswith('.jpg')]\n",
    "\n",
    "    if not image_files:\n",
    "        print(f\"No images found in the directory {directory}.\")\n",
    "        return None, None\n",
    "\n",
    "    min_size = float('inf')\n",
    "    min_image = None\n",
    "\n",
    "    for filename in image_files:\n",
    "        image = Image.open(os.path.join(directory, filename))\n",
    "        width, height = image.size\n",
    "        current_size = width * height\n",
    "\n",
    "        if current_size < min_size:\n",
    "            min_size = current_size\n",
    "            min_image = filename\n",
    "\n",
    "    return min_image, min_size\n",
    "\n",
    "base_directory = \"dat/a2/a2/data/train\"\n",
    "\n",
    "# Iterate through subdirectories\n",
    "for subdirectory in os.listdir(base_directory):\n",
    "    subdirectory_path = os.path.join(base_directory, subdirectory)\n",
    "\n",
    "    if os.path.isdir(subdirectory_path):\n",
    "        min_image, min_size = find_smallest_image_in_directory(subdirectory_path)\n",
    "\n",
    "        if min_image is not None:\n",
    "            print(f\"Found in {subdirectory}: {min_image}\")\n",
    "            print(f\"Dimensions: {Image.open(os.path.join(subdirectory_path, min_image)).size}\")\n",
    "        else:\n",
    "            print(f\"No images found in {subdirectory}.\")\n",
    "\n"
   ]
  },
  {
   "cell_type": "markdown",
   "metadata": {},
   "source": [
    "As we can see the minimum size is (203, 200). To keep things simple we can escale all the images to a square of size (200,200) "
   ]
  },
  {
   "cell_type": "code",
   "execution_count": 3,
   "metadata": {},
   "outputs": [],
   "source": [
    "import os\n",
    "import cv2\n",
    "import IPython.display as display\n",
    "from PIL import Image\n",
    "\n",
    "def resize_images(type):\n",
    "    # Directorio base\n",
    "    base_directory = \"dat/a2/a2/data/\"+type+\"/\"\n",
    "\n",
    "    # Iterar a través de los subdirectorios\n",
    "    for subdirectory in os.listdir(base_directory):\n",
    "        subdirectory_path = os.path.join(base_directory, subdirectory)\n",
    "\n",
    "        if os.path.isdir(subdirectory_path):\n",
    "            num_total_images = len([file for file in os.listdir(subdirectory_path) if file.lower().endswith('.jpg')])\n",
    "\n",
    "            for filename in os.listdir(subdirectory_path):\n",
    "                if filename.lower().endswith('.jpg'):\n",
    "                    image_path = os.path.join(subdirectory_path, filename)\n",
    "                    image = cv2.imread(image_path)\n",
    "                    resized_image = cv2.resize(image, (200, 200)) \n",
    "                    cv2.imwrite(image_path, resized_image)\n",
    "\n",
    "resize_images(\"train\")\n",
    "resize_images(\"test\")"
   ]
  },
  {
   "cell_type": "code",
   "execution_count": 27,
   "metadata": {},
   "outputs": [],
   "source": [
    "from skimage.feature import daisy, local_binary_pattern, hog\n",
    "\n",
    "def extract_hog_features(image_path):\n",
    "    image = cv2.imread(image_path, cv2.IMREAD_GRAYSCALE)\n",
    "    win_size = (64, 64)\n",
    "    cell_size = (8, 8)\n",
    "    block_size = (16, 16)\n",
    "    nbins = 9\n",
    "    hog = hog(win_size, block_size, cell_size, cell_size, nbins)\n",
    "    features = hog.compute(image)\n",
    "    return features\n",
    "\n",
    "def extract_daisy_features(image_path):\n",
    "    image = cv2.imread(image_path)\n",
    "    image_gray = cv2.cvtColor(image, cv2.COLOR_BGR2GRAY)\n",
    "    radius = 15\n",
    "    rings = 3\n",
    "    histograms = 8\n",
    "    orientations = 8\n",
    "\n",
    "    features = daisy(image_gray, step=8, radius=radius, rings=rings, histograms=histograms, orientations=orientations)\n",
    "    return features.flatten()\n",
    "\n",
    "def extract_local_binary_patterns(image_path):\n",
    "    image = cv2.imread(image_path)\n",
    "    image_gray = cv2.cvtColor(image, cv2.COLOR_BGR2GRAY)\n",
    "\n",
    "    # Configuración de los parámetros de la función local_binary_pattern\n",
    "    radius = 8\n",
    "    n_points = 24\n",
    "    method = 'uniform'\n",
    "\n",
    "    features = local_binary_pattern(image_gray, P=n_points, R=radius, method=method)\n",
    "    return features.flatten()\n",
    "\n",
    "def extract_features(image_path, descriptor):\n",
    "    if(descriptor == 'HOG'):\n",
    "        return extract_hog_features(image_path)\n",
    "    elif(descriptor == 'Daisy'):\n",
    "        return extract_daisy_features(image_path)\n",
    "    elif(descriptor == 'LBP'):\n",
    "        return extract_local_binary_patterns(image_path)\n",
    "    else:\n",
    "        raise ValueError(\"Invalid descriptor. Use 'hog', 'daisy', or 'lbp'.\")\n"
   ]
  },
  {
   "cell_type": "code",
   "execution_count": 23,
   "metadata": {},
   "outputs": [
    {
     "data": {
      "application/vnd.jupyter.widget-view+json": {
       "model_id": "fd89bb0608a849318b54a77dc049ac9c",
       "version_major": 2,
       "version_minor": 0
      },
      "text/plain": [
       "  0%|          | 0/15 [00:00<?, ?it/s]"
      ]
     },
     "metadata": {},
     "output_type": "display_data"
    },
    {
     "name": "stdout",
     "output_type": "stream",
     "text": [
      "[0.004876   0.00887227 0.03280577 ... 0.12030874 0.10029589 0.10116405]\n",
      "[0.00355532 0.006943   0.01085241 ... 0.00355747 0.00757798 0.00598026]\n",
      "[7. 7. 8. ... 8. 7. 7.]\n"
     ]
    }
   ],
   "source": [
    "import os\n",
    "import cv2\n",
    "from tqdm.notebook import tqdm\n",
    "\n",
    "base_directory = \"dat/a2/a2/data/train/\"\n",
    "\n",
    "#Listas para almacenar características\n",
    "features_list_hog = []\n",
    "features_list_daisy = []\n",
    "features_list_lbp = []\n",
    "\n",
    "#Iterar a través de los subdirectorios\n",
    "for subdirectory in tqdm(os.listdir(base_directory)):\n",
    "    subdirectory_path = os.path.join(base_directory, subdirectory)\n",
    "\n",
    "    # Extraer características de cada imagen\n",
    "    for filename in os.listdir(subdirectory_path):\n",
    "        image_path = os.path.join(subdirectory_path, filename)\n",
    "        features_hog = extract_features(image_path, 'HOG')\n",
    "        features_daisy = extract_features(image_path, 'Daisy')\n",
    "        features_lbp = extract_features(image_path, 'LBP')\n",
    "        features_list_hog.append(features_hog)\n",
    "        features_list_daisy.append(features_daisy)\n",
    "        features_list_lbp.append(features_lbp)\n",
    "\n",
    "print(features_list_hog[2])\n",
    "print(features_list_daisy[2])\n",
    "print(features_list_lbp[2])"
   ]
  },
  {
   "cell_type": "code",
   "execution_count": 24,
   "metadata": {},
   "outputs": [
    {
     "name": "stdout",
     "output_type": "stream",
     "text": [
      "bedroom = 0\n",
      "Coast = 1\n",
      "Forest = 2\n",
      "Highway = 3\n",
      "industrial = 4\n",
      "Insidecity = 5\n",
      "kitchen = 6\n",
      "livingroom = 7\n",
      "Mountain = 8\n",
      "Office = 9\n",
      "OpenCountry = 10\n",
      "store = 11\n",
      "Street = 12\n",
      "Suburb = 13\n",
      "TallBuilding = 14\n",
      "total categories: 15\n",
      "1500\n",
      "1500\n"
     ]
    }
   ],
   "source": [
    "from os.path import isfile, join, exists\n",
    "from os import listdir\n",
    "import numpy as np\n",
    "\n",
    "path=\"dat/a2/a2/data/train/\"\n",
    "category_names = listdir(path) \n",
    "\n",
    "for i in range(len(category_names)):\n",
    "    print (category_names[i],'=',i)\n",
    "\n",
    "print ('total categories:',len(category_names))\n",
    "\n",
    "def get_filenames(path):\n",
    "    onlyfiles = [path+f for f in listdir(path) if isfile(join(path, f))]\n",
    "    return onlyfiles\n",
    "\n",
    "dataset_filenames=[] ##list to keep path of all files in the database\n",
    "dataset_labels=[]\n",
    "##category_names.index('store')  list the numeric representation of the category\n",
    "##category_names[0] list the text representation of the category id\n",
    "for category in category_names:\n",
    "    category_filenames=get_filenames(path+category+\"/\")##get all the filenames in that category\n",
    "    category_labels=np.ones(len(category_filenames))*category_names.index(category) ##label the category with its index position\n",
    "    category_labels = category_labels.astype(int)\n",
    "    dataset_filenames=dataset_filenames+category_filenames\n",
    "    dataset_labels=dataset_labels+list(category_labels)\n",
    "\n",
    "print(len(dataset_filenames))\n",
    "print(len(dataset_labels))"
   ]
  },
  {
   "cell_type": "code",
   "execution_count": 30,
   "metadata": {},
   "outputs": [
    {
     "data": {
      "image/png": "[encoded data removed]",
      "text/plain": [
       "<Figure size 800x400 with 1 Axes>"
      ]
     },
     "metadata": {},
     "output_type": "display_data"
    }
   ],
   "source": [
    "from matplotlib import pyplot as plt\n",
    "from skimage import exposure\n",
    "\n",
    "\n",
    "image = cv2.imread(dataset_filenames[2])\n",
    "\n",
    "fd, hog_image = hog(\n",
    "    image,\n",
    "    orientations=8,\n",
    "    pixels_per_cell=(16, 16),\n",
    "    cells_per_block=(1, 1),\n",
    "    visualize=True,\n",
    "    channel_axis=-1,\n",
    ")\n",
    "\n",
    "fig, (ax1, ax2) = plt.subplots(1, 2, figsize=(8, 4), sharex=True, sharey=True)\n",
    "\n",
    "ax1.axis('off')\n",
    "ax1.imshow(image, cmap=plt.cm.gray)\n",
    "ax1.set_title('Input image')\n",
    "\n",
    "#Rescale histogram for better display\n",
    "hog_image_rescaled = exposure.rescale_intensity(hog_image, in_range=(0, 10))\n",
    "\n",
    "ax2.axis('off')\n",
    "ax2.imshow(hog_image_rescaled, cmap=plt.cm.gray)\n",
    "ax2.set_title('Histogram of Oriented Gradients')\n",
    "plt.show()"
   ]
  },
  {
   "cell_type": "code",
   "execution_count": 25,
   "metadata": {},
   "outputs": [
    {
     "ename": "IndexError",
     "evalue": "tuple index out of range",
     "output_type": "error",
     "traceback": [
      "\u001b[1;31m---------------------------------------------------------------------------\u001b[0m",
      "\u001b[1;31mIndexError\u001b[0m                                Traceback (most recent call last)",
      "\u001b[1;32mc:\\Users\\marcc\\OneDrive\\Escritorio\\GitHub\\aa_2324\\Practica1\\Paisatge.ipynb Cell 10\u001b[0m line \u001b[0;36m2\n\u001b[0;32m     <a href='vscode-notebook-cell:/c%3A/Users/marcc/OneDrive/Escritorio/GitHub/aa_2324/Practica1/Paisatge.ipynb#X12sZmlsZQ%3D%3D?line=15'>16</a>\u001b[0m     cv2\u001b[39m.\u001b[39mdestroyAllWindows()\n\u001b[0;32m     <a href='vscode-notebook-cell:/c%3A/Users/marcc/OneDrive/Escritorio/GitHub/aa_2324/Practica1/Paisatge.ipynb#X12sZmlsZQ%3D%3D?line=17'>18</a>\u001b[0m \u001b[39m# Asegúrate de tener la función extract_features definida y que devuelva algo\u001b[39;00m\n\u001b[0;32m     <a href='vscode-notebook-cell:/c%3A/Users/marcc/OneDrive/Escritorio/GitHub/aa_2324/Practica1/Paisatge.ipynb#X12sZmlsZQ%3D%3D?line=18'>19</a>\u001b[0m \u001b[39m# extract_features(image_path, descriptor)\u001b[39;00m\n\u001b[0;32m     <a href='vscode-notebook-cell:/c%3A/Users/marcc/OneDrive/Escritorio/GitHub/aa_2324/Practica1/Paisatge.ipynb#X12sZmlsZQ%3D%3D?line=19'>20</a>\u001b[0m \n\u001b[0;32m     <a href='vscode-notebook-cell:/c%3A/Users/marcc/OneDrive/Escritorio/GitHub/aa_2324/Practica1/Paisatge.ipynb#X12sZmlsZQ%3D%3D?line=20'>21</a>\u001b[0m \u001b[39m# Llama a la función con la ruta de archivo correcta\u001b[39;00m\n\u001b[1;32m---> <a href='vscode-notebook-cell:/c%3A/Users/marcc/OneDrive/Escritorio/GitHub/aa_2324/Practica1/Paisatge.ipynb#X12sZmlsZQ%3D%3D?line=21'>22</a>\u001b[0m show_image_with_features(\u001b[39m\"\u001b[39;49m\u001b[39mHOG\u001b[39;49m\u001b[39m\"\u001b[39;49m, dataset_filenames[\u001b[39m6\u001b[39;49m])\n",
      "\u001b[1;32mc:\\Users\\marcc\\OneDrive\\Escritorio\\GitHub\\aa_2324\\Practica1\\Paisatge.ipynb Cell 10\u001b[0m line \u001b[0;36m1\n\u001b[0;32m     <a href='vscode-notebook-cell:/c%3A/Users/marcc/OneDrive/Escritorio/GitHub/aa_2324/Practica1/Paisatge.ipynb#X12sZmlsZQ%3D%3D?line=9'>10</a>\u001b[0m \u001b[39m# Mostrar la imagen con las características del descriptor aplicadas\u001b[39;00m\n\u001b[0;32m     <a href='vscode-notebook-cell:/c%3A/Users/marcc/OneDrive/Escritorio/GitHub/aa_2324/Practica1/Paisatge.ipynb#X12sZmlsZQ%3D%3D?line=10'>11</a>\u001b[0m visualized_image \u001b[39m=\u001b[39m np\u001b[39m.\u001b[39mzeros_like(original_image)\n\u001b[1;32m---> <a href='vscode-notebook-cell:/c%3A/Users/marcc/OneDrive/Escritorio/GitHub/aa_2324/Practica1/Paisatge.ipynb#X12sZmlsZQ%3D%3D?line=11'>12</a>\u001b[0m visualized_image[:features\u001b[39m.\u001b[39mshape[\u001b[39m0\u001b[39m], :features\u001b[39m.\u001b[39;49mshape[\u001b[39m1\u001b[39;49m]] \u001b[39m=\u001b[39m features\n\u001b[0;32m     <a href='vscode-notebook-cell:/c%3A/Users/marcc/OneDrive/Escritorio/GitHub/aa_2324/Practica1/Paisatge.ipynb#X12sZmlsZQ%3D%3D?line=12'>13</a>\u001b[0m cv2\u001b[39m.\u001b[39mimshow(\u001b[39mf\u001b[39m\u001b[39m'\u001b[39m\u001b[39m{\u001b[39;00mdescriptor\u001b[39m.\u001b[39mcapitalize()\u001b[39m}\u001b[39;00m\u001b[39m Features\u001b[39m\u001b[39m'\u001b[39m, visualized_image)\n\u001b[0;32m     <a href='vscode-notebook-cell:/c%3A/Users/marcc/OneDrive/Escritorio/GitHub/aa_2324/Practica1/Paisatge.ipynb#X12sZmlsZQ%3D%3D?line=14'>15</a>\u001b[0m cv2\u001b[39m.\u001b[39mwaitKey(\u001b[39m0\u001b[39m)\n",
      "\u001b[1;31mIndexError\u001b[0m: tuple index out of range"
     ]
    }
   ],
   "source": [
    "def show_image_with_features(descriptor, image_path):\n",
    "    features = extract_features(image_path, descriptor)  # Asegúrate de que extract_features devuelva algo\n",
    "\n",
    "    # Cargar la imagen usando cv2.imread\n",
    "    original_image = cv2.imread(image_path)\n",
    "\n",
    "    # Mostrar la imagen original\n",
    "    cv2.imshow('Original Image', original_image)\n",
    "\n",
    "    # Mostrar la imagen con las características del descriptor aplicadas\n",
    "    visualized_image = np.zeros_like(original_image)\n",
    "    visualized_image[:features.shape[0], :features.shape[1]] = features\n",
    "    cv2.imshow(f'{descriptor.capitalize()} Features', visualized_image)\n",
    "\n",
    "    cv2.waitKey(0)\n",
    "    cv2.destroyAllWindows()\n",
    "\n",
    "# Asegúrate de tener la función extract_features definida y que devuelva algo\n",
    "# extract_features(image_path, descriptor)\n",
    "\n",
    "# Llama a la función con la ruta de archivo correcta\n",
    "show_image_with_features(\"HOG\", dataset_filenames[6])"
   ]
  }
 ],
 "metadata": {
  "kernelspec": {
   "display_name": "Python 3",
   "language": "python",
   "name": "python3"
  },
  "language_info": {
   "codemirror_mode": {
    "name": "ipython",
    "version": 3
   },
   "file_extension": ".py",
   "mimetype": "text/x-python",
   "name": "python",
   "nbconvert_exporter": "python",
   "pygments_lexer": "ipython3",
   "version": "3.10.13"
  }
 },
 "nbformat": 4,
 "nbformat_minor": 2
}
