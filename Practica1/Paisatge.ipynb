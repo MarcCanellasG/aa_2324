{
 "cells": [
  {
   "cell_type": "markdown",
   "metadata": {},
   "source": [
    "# Practica 1 - Landscapes\n",
    "This dataset represents different countries or inland areas with 14 different classes. Due to their difficulty, the images are real images without any practical pre-treatment, it will be necessary to maximise the characteristics of the images to improve the results."
   ]
  },
  {
   "cell_type": "code",
   "execution_count": 13,
   "metadata": {},
   "outputs": [
    {
     "name": "stdout",
     "output_type": "stream",
     "text": [
      "La imagen con la dimensión más pequeña es: image_0038.jpg\n",
      "Dimensiones: (224, 200)\n"
     ]
    }
   ],
   "source": [
    "from PIL import Image\n",
    "import os\n",
    "\n",
    "directorio = \"dat/a2/a2/data/train/bedroom\"\n",
    "\n",
    "# lista de nombres de archivos de imágenes en el directorio\n",
    "archivos_imagen = [archivo for archivo in os.listdir(directorio) if archivo.lower().endswith(('.jpg', '.jpeg', '.png', '.gif'))]\n",
    "\n",
    "if not archivos_imagen:\n",
    "    print(\"No se encontraron imágenes en el directorio.\")\n",
    "else:\n",
    "    # Inicializa el tamaño mínimo con un valor grande\n",
    "    tamano_minimo = float('inf')\n",
    "    imagen_minima = None\n",
    "\n",
    "    # Itera a través de las imágenes y encuentra la más pequeña\n",
    "    for filename in archivos_imagen:\n",
    "        imagen = Image.open(os.path.join(directorio, filename))\n",
    "        ancho, alto = imagen.size\n",
    "        tamano_actual = ancho * alto\n",
    "\n",
    "        if tamano_actual < tamano_minimo:\n",
    "            tamano_minimo = tamano_actual\n",
    "            imagen_minima = filename\n",
    "\n",
    "    print(f\"La imagen con la dimensión más pequeña es: {imagen_minima}\")\n",
    "    print(f\"Dimensiones: {Image.open(os.path.join(directorio, imagen_minima)).size}\")\n"
   ]
  }
 ],
 "metadata": {
  "kernelspec": {
   "display_name": "Python 3",
   "language": "python",
   "name": "python3"
  },
  "language_info": {
   "codemirror_mode": {
    "name": "ipython",
    "version": 3
   },
   "file_extension": ".py",
   "mimetype": "text/x-python",
   "name": "python",
   "nbconvert_exporter": "python",
   "pygments_lexer": "ipython3",
   "version": "3.8.5"
  }
 },
 "nbformat": 4,
 "nbformat_minor": 2
}
