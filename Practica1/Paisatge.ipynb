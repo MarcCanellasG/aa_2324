{
 "cells": [
  {
   "cell_type": "markdown",
   "metadata": {},
   "source": [
    "# Practica 1 - Landscapes\n",
    "This dataset represents different countries or inland areas with 14 different classes. Due to their difficulty, the images are real images without any practical pre-treatment, it will be necessary to maximise the characteristics of the images to improve the results."
   ]
  },
  {
   "cell_type": "markdown",
   "metadata": {},
   "source": [
    "## Transforming and preparing the dataset\n",
    "\n",
    "First of all we have to scale all the images to the same size in order to train our model. The best size is the minimum of all images, in order to avoid useless pixels of information."
   ]
  },
  {
   "cell_type": "code",
   "execution_count": null,
   "metadata": {},
   "outputs": [],
   "source": [
    "from PIL import Image\n",
    "import os\n",
    "\n",
    "def find_smallest_image_in_directory(directory):\n",
    "    image_files = [file for file in os.listdir(directory) if file.lower().endswith(('.jpg', '.jpeg', '.png', '.gif'))]\n",
    "\n",
    "    if not image_files:\n",
    "        print(f\"No images found in the directory {directory}.\")\n",
    "        return None, None\n",
    "\n",
    "    min_size = float('inf')\n",
    "    min_image = None\n",
    "\n",
    "    for filename in image_files:\n",
    "        image = Image.open(os.path.join(directory, filename))\n",
    "        width, height = image.size\n",
    "        current_size = width * height\n",
    "\n",
    "        if current_size < min_size:\n",
    "            min_size = current_size\n",
    "            min_image = filename\n",
    "\n",
    "    return min_image, min_size\n",
    "\n",
    "base_directory = \"dat/a2/a2/data/train\"\n",
    "\n",
    "# Iterate through subdirectories\n",
    "for subdirectory in os.listdir(base_directory):\n",
    "    subdirectory_path = os.path.join(base_directory, subdirectory)\n",
    "\n",
    "    if os.path.isdir(subdirectory_path):\n",
    "        min_image, min_size = find_smallest_image_in_directory(subdirectory_path)\n",
    "\n",
    "        if min_image is not None:\n",
    "            print(f\"Found in {subdirectory}: {min_image}\")\n",
    "            print(f\"Dimensions: {Image.open(os.path.join(subdirectory_path, min_image)).size}\")\n",
    "        else:\n",
    "            print(f\"No images found in {subdirectory}.\")\n",
    "\n"
   ]
  },
  {
   "cell_type": "markdown",
   "metadata": {},
   "source": [
    "As we can see the minimum size is (203, 200). To keep things simple we can escale all the images to a square of size (200,200) "
   ]
  },
  {
   "cell_type": "code",
   "execution_count": null,
   "metadata": {},
   "outputs": [],
   "source": [
    "import os\n",
    "import cv2\n",
    "import IPython.display as display\n",
    "from PIL import Image\n",
    "\n",
    "def resize_and_display_images_in_directory(directory, target_size=(200, 200), num_images=5):\n",
    "    image_files = [file for file in os.listdir(directory) if file.lower().endswith(('.jpg', '.jpeg', '.png', '.gif'))]\n",
    "\n",
    "    if not image_files:\n",
    "        print(f\"No images found in the directory {directory}.\")\n",
    "        return\n",
    "\n",
    "    # Display up to num_images images\n",
    "    for filename in image_files[:num_images]:\n",
    "        image_path = os.path.join(directory, filename)\n",
    "        original_image = Image.open(image_path)\n",
    "\n",
    "        # Resize the image\n",
    "        resized_image = original_image.resize(target_size)\n",
    "\n",
    "        # Display the resized image in the notebook\n",
    "        display.display(resized_image)\n",
    "\n",
    "# Directory path\n",
    "base_directory = \"dat/a2/a2/data/train\"\n",
    "\n",
    "# Iterate through subdirectories\n",
    "for subdirectory in os.listdir(base_directory):\n",
    "    subdirectory_path = os.path.join(base_directory, subdirectory)\n",
    "\n",
    "    if os.path.isdir(subdirectory_path):\n",
    "        # Resize and display up to 5 images from each directory\n",
    "        resize_and_display_images_in_directory(subdirectory_path, num_images=5)\n"
   ]
  }
 ],
 "metadata": {
  "kernelspec": {
   "display_name": "Python 3 (ipykernel)",
   "language": "python",
   "name": "python3"
  },
  "language_info": {
   "codemirror_mode": {
    "name": "ipython",
    "version": 3
   },
   "file_extension": ".py",
   "mimetype": "text/x-python",
   "name": "python",
   "nbconvert_exporter": "python",
   "pygments_lexer": "ipython3",
   "version": "3.9.12"
  }
 },
 "nbformat": 4,
 "nbformat_minor": 2
}
