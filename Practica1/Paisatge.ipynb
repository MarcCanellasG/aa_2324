{
 "cells": [
  {
   "cell_type": "markdown",
   "metadata": {},
   "source": [
    "# Practica 1 - Landscapes\n",
    "This dataset represents different countries or inland areas with 14 different classes. Due to their difficulty, the images are real images without any practical pre-treatment, it will be necessary to maximise the characteristics of the images to improve the results."
   ]
  },
  {
   "cell_type": "markdown",
   "metadata": {},
   "source": [
    "## Transforming and preparing the dataset\n",
    "\n",
    "The first problem we find is that images don't have the same dimensions, so we have to scale all the images to the same size in order to train our model. The best size is the minimum of all images, in order to avoid useless pixels of information because if we increase the size of the small images we are causing pixels that didn't exist to appear and alter the results."
   ]
  },
  {
   "cell_type": "code",
   "execution_count": 1,
   "metadata": {},
   "outputs": [
    {
     "name": "stdout",
     "output_type": "stream",
     "text": [
      "Collecting opencv-python\n",
      "  Using cached opencv_python-4.8.1.78-cp37-abi3-win_amd64.whl (38.1 MB)\n",
      "Requirement already satisfied: numpy>=1.17.0; python_version >= \"3.7\" in c:\\users\\marcc\\anaconda3\\lib\\site-packages (from opencv-python) (1.19.2)\n",
      "Installing collected packages: opencv-python\n",
      "Successfully installed opencv-python-4.8.1.78\n",
      "Note: you may need to restart the kernel to use updated packages.\n"
     ]
    }
   ],
   "source": [
    "%pip install opencv-python"
   ]
  },
  {
   "cell_type": "code",
   "execution_count": 2,
   "metadata": {},
   "outputs": [
    {
     "name": "stdout",
     "output_type": "stream",
     "text": [
      "Found in bedroom: image_0038.jpg\n",
      "Dimensions: (224, 200)\n",
      "Found in Coast: image_0006.jpg\n",
      "Dimensions: (256, 256)\n",
      "Found in Forest: image_0003.jpg\n",
      "Dimensions: (256, 256)\n",
      "Found in Highway: image_0009.jpg\n",
      "Dimensions: (256, 256)\n",
      "Found in industrial: image_0019.jpg\n",
      "Dimensions: (222, 220)\n",
      "Found in Insidecity: image_0005.jpg\n",
      "Dimensions: (256, 256)\n",
      "Found in kitchen: image_0202.jpg\n",
      "Dimensions: (203, 220)\n",
      "Found in livingroom: image_0253.jpg\n",
      "Dimensions: (220, 224)\n",
      "Found in Mountain: image_0002.jpg\n",
      "Dimensions: (256, 256)\n",
      "Found in Office: image_0014.jpg\n",
      "Dimensions: (241, 220)\n",
      "Found in OpenCountry: image_0003.jpg\n",
      "Dimensions: (256, 256)\n",
      "Found in store: image_0054.jpg\n",
      "Dimensions: (221, 220)\n",
      "Found in Street: image_0001.jpg\n",
      "Dimensions: (256, 256)\n",
      "Found in Suburb: image_0002.jpg\n",
      "Dimensions: (330, 220)\n",
      "Found in TallBuilding: image_0010.jpg\n",
      "Dimensions: (256, 256)\n"
     ]
    }
   ],
   "source": [
    "from PIL import Image\n",
    "import os\n",
    "\n",
    "def find_smallest_image_in_directory(directory):\n",
    "    image_files = [file for file in os.listdir(directory) if file.lower().endswith('.jpg')]\n",
    "\n",
    "    if not image_files:\n",
    "        print(f\"No images found in the directory {directory}.\")\n",
    "        return None, None\n",
    "\n",
    "    min_size = float('inf')\n",
    "    min_image = None\n",
    "\n",
    "    for filename in image_files:\n",
    "        image = Image.open(os.path.join(directory, filename))\n",
    "        width, height = image.size\n",
    "        current_size = width * height\n",
    "\n",
    "        if current_size < min_size:\n",
    "            min_size = current_size\n",
    "            min_image = filename\n",
    "\n",
    "    return min_image, min_size\n",
    "\n",
    "base_directory = \"dat/a2/a2/data/train\"\n",
    "\n",
    "# Iterate through subdirectories\n",
    "for subdirectory in os.listdir(base_directory):\n",
    "    subdirectory_path = os.path.join(base_directory, subdirectory)\n",
    "\n",
    "    if os.path.isdir(subdirectory_path):\n",
    "        min_image, min_size = find_smallest_image_in_directory(subdirectory_path)\n",
    "\n",
    "        if min_image is not None:\n",
    "            print(f\"Found in {subdirectory}: {min_image}\")\n",
    "            print(f\"Dimensions: {Image.open(os.path.join(subdirectory_path, min_image)).size}\")\n",
    "        else:\n",
    "            print(f\"No images found in {subdirectory}.\")\n",
    "\n"
   ]
  },
  {
   "cell_type": "markdown",
   "metadata": {},
   "source": [
    "As we can see the minimum size is (203, 200). To keep things simple we can escale all the images to a square of size (200,200) "
   ]
  },
  {
   "cell_type": "code",
   "execution_count": 3,
   "metadata": {},
   "outputs": [],
   "source": [
    "\n",
    "import os\n",
    "import cv2\n",
    "import IPython.display as display\n",
    "from PIL import Image\n",
    "\n",
    "def resize_and_display_images_in_directory(directory, target_size=(200, 200), num_images=5):\n",
    "    image_files = [file for file in os.listdir(directory) if file.lower().endswith('.jpg')]\n",
    "\n",
    "    if not image_files:\n",
    "        print(f\"No images found in the directory {directory}.\")\n",
    "        return\n",
    "    \n",
    "    # Create a subdirectory to store modified images\n",
    "    resized_directory = os.path.join(directory, \"resized\")\n",
    "    os.makedirs(resized_directory, exist_ok=True)\n",
    "\n",
    "    # Display up to num_images images\n",
    "    for filename in image_files[:num_images]:\n",
    "        image_path = os.path.join(directory, filename)\n",
    "        original_image = Image.open(image_path)\n",
    "\n",
    "        # Resize the image\n",
    "        resized_image = original_image.resize(target_size)\n",
    "        \n",
    "        # Save the resized image back to the same directory\n",
    "        resized_image.save(os.path.join(resized_directory, filename))\n",
    "\n",
    "        # Display the resized image in the notebook\n",
    "        #display.display(resized_image)\n",
    "\n",
    "# Directory path\n",
    "base_directory = \"dat/a2/a2/data/train\"\n",
    "\n",
    "# Iterate through subdirectories\n",
    "for subdirectory in os.listdir(base_directory):\n",
    "    subdirectory_path = os.path.join(base_directory, subdirectory)\n",
    "\n",
    "    if os.path.isdir(subdirectory_path):\n",
    "        num_total_images = len([file for file in os.listdir(subdirectory_path) if file.lower().endswith('.jpg')])\n",
    "        # Resize and display up to 5 images from each directory\n",
    "        resize_and_display_images_in_directory(subdirectory_path, num_images=num_total_images)\n"
   ]
  },
  {
   "cell_type": "code",
   "execution_count": 4,
   "metadata": {},
   "outputs": [],
   "source": [
    "import os\n",
    "import cv2\n",
    "import numpy as np\n",
    "\n",
    "# Función para extraer características HOG de una imagen\n",
    "def extract_hog_features(image_path):\n",
    "    image = cv2.imread(image_path, cv2.IMREAD_GRAYSCALE)\n",
    "    win_size = (64, 64)\n",
    "    cell_size = (8, 8)\n",
    "    block_size = (16, 16)\n",
    "    nbins = 9\n",
    "    hog = cv2.HOGDescriptor(win_size, block_size, cell_size, cell_size, nbins)\n",
    "    features = hog.compute(image)\n",
    "    return features\n",
    "\n",
    "# Directorio base\n",
    "base_directory = \"dat/a2/a2/data/train/bedroom/resized\"\n",
    "\n",
    "# Lista para almacenar características\n",
    "features_list = []\n",
    "\n",
    "# Iterar a través de los subdirectorios\n",
    "for subdirectory in os.listdir(base_directory):\n",
    "    subdirectory_path = os.path.join(base_directory, subdirectory)\n",
    "\n",
    "    if os.path.isdir(subdirectory_path):\n",
    "        num_total_images = len([file for file in os.listdir(subdirectory_path) if file.lower().endswith('.jpg')])\n",
    "\n",
    "        # Redimensionar y procesar todas las imágenes en cada directorio\n",
    "        resize_and_display_images_in_directory(subdirectory_path, num_images=num_total_images)\n",
    "\n",
    "        # Extraer características de cada imagen\n",
    "        for filename in os.listdir(subdirectory_path):\n",
    "            if filename.lower().endswith('.jpg'):\n",
    "                image_path = os.path.join(subdirectory_path, filename)\n",
    "                features = extract_hog_features(image_path)\n",
    "                features_list.append(features)\n"
   ]
  }
 ],
 "metadata": {
  "kernelspec": {
   "display_name": "Python 3",
   "language": "python",
   "name": "python3"
  },
  "language_info": {
   "codemirror_mode": {
    "name": "ipython",
    "version": 3
   },
   "file_extension": ".py",
   "mimetype": "text/x-python",
   "name": "python",
   "nbconvert_exporter": "python",
   "pygments_lexer": "ipython3",
   "version": "3.10.13"
  }
 },
 "nbformat": 4,
 "nbformat_minor": 2
}
