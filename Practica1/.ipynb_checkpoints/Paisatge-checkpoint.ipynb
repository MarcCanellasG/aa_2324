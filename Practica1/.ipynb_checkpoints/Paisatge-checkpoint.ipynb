{
 "cells": [
  {
   "cell_type": "markdown",
   "metadata": {},
   "source": [
    "# Practica 1 - Landscapes\n",
    "This dataset represents different countries or inland areas with 14 different classes. Due to their difficulty, the images are real images without any practical pre-treatment, it will be necessary to maximise the characteristics of the images to improve the results."
   ]
  },
  {
   "cell_type": "code",
   "execution_count": 1,
   "metadata": {},
   "outputs": [
    {
     "name": "stdout",
     "output_type": "stream",
     "text": [
      "La imagen con la dimensión más pequeña es: image_0038.jpg\n",
      "Dimensiones: (224, 200)\n"
     ]
    }
   ],
   "source": [
    "from PIL import Image\n",
    "import os\n",
    "\n",
    "def encontrar_imagen_mas_pequena_en_directorio(directorio):\n",
    "    archivos_imagen = [archivo for archivo in os.listdir(directorio) if archivo.lower().endswith(('.jpg', '.jpeg', '.png', '.gif'))]\n",
    "\n",
    "    if not archivos_imagen:\n",
    "        print(f\"No se encontraron imágenes en el directorio {directorio}.\")\n",
    "        return None, None\n",
    "\n",
    "    tamano_minimo = float('inf')\n",
    "    imagen_minima = None\n",
    "\n",
    "    for filename in archivos_imagen:\n",
    "        imagen = Image.open(os.path.join(directorio, filename))\n",
    "        ancho, alto = imagen.size\n",
    "        tamano_actual = ancho * alto\n",
    "\n",
    "        if tamano_actual < tamano_minimo:\n",
    "            tamano_minimo = tamano_actual\n",
    "            imagen_minima = filename\n",
    "\n",
    "    return imagen_minima, tamano_minimo\n",
    "\n",
    "directorio_base = \"dat/a2/a2/data/train\"\n",
    "\n",
    "# Iterar a través de subdirectorios\n",
    "for subdirectorio in os.listdir(directorio_base):\n",
    "    subdirectorio_path = os.path.join(directorio_base, subdirectorio)\n",
    "\n",
    "    if os.path.isdir(subdirectorio_path):\n",
    "        imagen_minima, tamano_minimo = encontrar_imagen_mas_pequena_en_directorio(subdirectorio_path)\n",
    "\n",
    "        if imagen_minima is not None:\n",
    "            print(f\"Encontrada en {subdirectorio}: {imagen_minima}\")\n",
    "            print(f\"Dimensiones: {Image.open(os.path.join(subdirectorio_path, imagen_minima)).size}\")\n",
    "        else:\n",
    "            print(f\"No se encontraron imágenes en {subdirectorio}.\")\n"
   ]
  }
 ],
 "metadata": {
  "kernelspec": {
   "display_name": "Python 3 (ipykernel)",
   "language": "python",
   "name": "python3"
  },
  "language_info": {
   "codemirror_mode": {
    "name": "ipython",
    "version": 3
   },
   "file_extension": ".py",
   "mimetype": "text/x-python",
   "name": "python",
   "nbconvert_exporter": "python",
   "pygments_lexer": "ipython3",
   "version": "3.9.12"
  }
 },
 "nbformat": 4,
 "nbformat_minor": 2
}
